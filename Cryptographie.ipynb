{
 "cells": [
  {
   "cell_type": "code",
   "execution_count": 1,
   "metadata": {
    "slideshow": {
     "slide_type": "slide"
    }
   },
   "outputs": [],
   "source": [
    "crypt = \"KIVQXTCQQVRPQOSGWEKVMTRYNHJVUVVKBMDPKVHKWBUWFVZFNOPQOSGWEKVMTRYNHJGDPKOV\"\n",
    "\n",
    "n = len(crypt)\n",
    "\n",
    "alphabet = 'ABCDEFGHIJKLMNOPQRSTUVWXYZ'"
   ]
  },
  {
   "cell_type": "code",
   "execution_count": 2,
   "metadata": {
    "slideshow": {
     "slide_type": "subslide"
    }
   },
   "outputs": [
    {
     "name": "stdout",
     "output_type": "stream",
     "text": [
      "72\n",
      "ABCDEFGHIJKLMNOPQRSTUVWXYZ\n"
     ]
    }
   ],
   "source": [
    "print(n)\n",
    "print(alphabet) "
   ]
  },
  {
   "cell_type": "code",
   "execution_count": 3,
   "metadata": {},
   "outputs": [],
   "source": [
    "occurence = []\n",
    "for lettre in alphabet : \n",
    "    k = 0\n",
    "    for i in crypt : \n",
    "        if i == lettre : \n",
    "            k = k + 1 \n",
    "    occurence.append(k) #occurence = [occurence k]"
   ]
  },
  {
   "cell_type": "code",
   "execution_count": 4,
   "metadata": {
    "scrolled": true
   },
   "outputs": [
    {
     "name": "stdout",
     "output_type": "stream",
     "text": [
      "[0, 2, 1, 2, 2, 2, 3, 3, 1, 2, 7, 0, 3, 3, 4, 4, 5, 3, 2, 3, 2, 10, 4, 1, 2, 1]\n"
     ]
    }
   ],
   "source": [
    "print(occurence)"
   ]
  },
  {
   "cell_type": "code",
   "execution_count": 5,
   "metadata": {},
   "outputs": [],
   "source": [
    "index = 0\n",
    "for i in occurence :\n",
    "    index += (i*(i-1))/(n*(n-1))\n"
   ]
  },
  {
   "cell_type": "code",
   "execution_count": 7,
   "metadata": {},
   "outputs": [
    {
     "name": "stdout",
     "output_type": "stream",
     "text": [
      "3.0463012240553486\n"
     ]
    }
   ],
   "source": [
    "K = (0.0265*n)/((0.065-index)+n*(index -0.0385))\n",
    "print(K)"
   ]
  },
  {
   "cell_type": "code",
   "execution_count": 8,
   "metadata": {},
   "outputs": [],
   "source": [
    "A3 = [crypt[3*x-1] for x in range(1,25)]\n",
    "A2 = [crypt[3*x-2] for x in range(1,25)]\n",
    "A1 = [crypt[3*x] for x in range(0,24)]"
   ]
  },
  {
   "cell_type": "code",
   "execution_count": 9,
   "metadata": {},
   "outputs": [
    {
     "name": "stdout",
     "output_type": "stream",
     "text": [
      "['K', 'Q', 'C', 'V', 'Q', 'G', 'K', 'T', 'N', 'V', 'V', 'M', 'K', 'K', 'U', 'V', 'N', 'Q', 'G', 'K', 'T', 'N', 'G', 'K']\n",
      "['I', 'X', 'Q', 'R', 'O', 'W', 'V', 'R', 'H', 'U', 'K', 'D', 'V', 'W', 'W', 'Z', 'O', 'O', 'W', 'V', 'R', 'H', 'D', 'O']\n",
      "['V', 'T', 'Q', 'P', 'S', 'E', 'M', 'Y', 'J', 'V', 'B', 'P', 'H', 'B', 'F', 'F', 'P', 'S', 'E', 'M', 'Y', 'J', 'P', 'V']\n"
     ]
    }
   ],
   "source": [
    "print(A1)\n",
    "print(A2)\n",
    "print(A3)"
   ]
  },
  {
   "cell_type": "code",
   "execution_count": 10,
   "metadata": {
    "collapsed": true
   },
   "outputs": [],
   "source": [
    "occurence1 = []\n",
    "for lettre in alphabet : \n",
    "    k = 0\n",
    "    for i in A1 : \n",
    "        if i == lettre : \n",
    "            k = k + 1 \n",
    "    occurence1 = occurence1 + [k]"
   ]
  },
  {
   "cell_type": "code",
   "execution_count": 11,
   "metadata": {
    "collapsed": true
   },
   "outputs": [],
   "source": [
    "occurence2 = []\n",
    "for lettre in alphabet : \n",
    "    k = 0\n",
    "    for i in A2 : \n",
    "        if i == lettre : \n",
    "            k = k + 1 \n",
    "    occurence2 = occurence2 + [k]"
   ]
  },
  {
   "cell_type": "code",
   "execution_count": 12,
   "metadata": {
    "collapsed": true
   },
   "outputs": [],
   "source": [
    "occurence3 = []\n",
    "for lettre in alphabet : \n",
    "    k = 0\n",
    "    for i in A3 : \n",
    "        if i == lettre : \n",
    "            k = k + 1 \n",
    "    occurence3 = occurence3 + [k]"
   ]
  },
  {
   "cell_type": "code",
   "execution_count": 13,
   "metadata": {},
   "outputs": [
    {
     "name": "stdout",
     "output_type": "stream",
     "text": [
      "([0.0, 0.0, 4.16, 0.0, 0.0, 0.0, 12.5, 0.0, 0.0, 0.0, 25.0, 0.0, 4.16, 12.5, 0.0, 0.0, 12.5, 0.0, 0.0, 8.33, 4.16, 16.66, 0.0, 0.0, 0.0, 0.0], [0.0, 0.0, 0.0, 8.33, 0.0, 0.0, 0.0, 8.33, 4.16, 0.0, 4.16, 0.0, 0.0, 0.0, 16.66, 0.0, 4.16, 12.5, 0.0, 0.0, 4.16, 12.5, 16.66, 4.16, 0.0, 4.16], [0.0, 8.33, 0.0, 0.0, 8.33, 8.33, 0.0, 4.16, 0.0, 8.33, 0.0, 0.0, 8.33, 0.0, 0.0, 16.66, 4.16, 0.0, 8.33, 4.16, 0.0, 12.5, 0.0, 0.0, 8.33, 0.0])\n"
     ]
    }
   ],
   "source": [
    "pourcentage = [int(x/len(A1)*10000)/100 for x in occurence1], [int(x/len(A2)*10000)/100 for x in occurence2], [int(x/len(A3)*10000)/100 for x in occurence3]\n",
    "print(pourcentage)"
   ]
  },
  {
   "cell_type": "code",
   "execution_count": 14,
   "metadata": {},
   "outputs": [
    {
     "name": "stdout",
     "output_type": "stream",
     "text": [
      "[8.08, 1.67, 3.18, 3.99, 12.56, 2.17, 1.8, 5.27, 7.24, 0.14, 0.63, 4.04, 2.6, 7.38, 7.47, 1.91, 0.09, 6.42, 6.59, 9.15, 2.79, 1.0, 1.89, 0.21, 1.65, 0.07]\n"
     ]
    }
   ],
   "source": [
    "english = [8.08,1.67,3.18,3.99,12.56,2.17,1.80,5.27,7.24,0.14,0.63,4.04,2.60,7.38,7.47,1.91,0.09,6.42,6.59,9.15,2.79,1.00,1.89,0.21,1.65,0.07]\n",
    "print(english)\n"
   ]
  },
  {
   "cell_type": "code",
   "execution_count": 15,
   "metadata": {},
   "outputs": [],
   "source": [
    "%matplotlib notebook\n",
    "\n",
    "import matplotlib.pyplot as plt"
   ]
  },
  {
   "cell_type": "code",
   "execution_count": 16,
   "metadata": {},
   "outputs": [
    {
     "name": "stdout",
     "output_type": "stream",
     "text": [
      "[650.6451999999997, 2]\n"
     ]
    }
   ],
   "source": [
    "liste = pourcentage[0]\n",
    "ecarts = []\n",
    "for i in range(0,len(liste)) :\n",
    "    ecart = 0\n",
    "    for j in range(0,len(english)):\n",
    "        ecart += (english[j] - liste[(j+i)%len(liste)] ) ** 2 \n",
    "    ecarts.append([ecart,i])\n",
    "print(min(ecarts))"
   ]
  },
  {
   "cell_type": "code",
   "execution_count": null,
   "metadata": {
    "collapsed": true
   },
   "outputs": [],
   "source": []
  },
  {
   "cell_type": "code",
   "execution_count": 17,
   "metadata": {},
   "outputs": [],
   "source": [
    "num = []\n",
    "for lettre in crypt : \n",
    "    for i in range(len(alphabet)): \n",
    "        if lettre == alphabet[i]: \n",
    "            num.append(i)"
   ]
  },
  {
   "cell_type": "code",
   "execution_count": 18,
   "metadata": {},
   "outputs": [],
   "source": [
    "Clé = \"CDB\"\n",
    "cle_inverse = [2,3,1]\n",
    "Numéro = 231"
   ]
  },
  {
   "cell_type": "code",
   "execution_count": 19,
   "metadata": {},
   "outputs": [],
   "source": [
    "decode = []\n",
    "for i in range(len(num)) : \n",
    "    decode.append( alphabet[ (num[i]-cle_inverse[i%3]) %26] ) "
   ]
  },
  {
   "cell_type": "code",
   "execution_count": 20,
   "metadata": {},
   "outputs": [
    {
     "name": "stdout",
     "output_type": "stream",
     "text": [
      "IF#OU#AN#TO#OL#ET#IS#RO#LE#TR#TH#KA#IS#IT#ST#TW#LL#OL#ET#IS#RO#LE#EA#IL#\n"
     ]
    }
   ],
   "source": [
    "#Grace à l'analyse fréquentielle :\n",
    "\n",
    "for i in  range(len(decode)) : \n",
    "    if i%3 == 2 :\n",
    "        decode[i] = \"#\"\n",
    "        \n",
    "    \n",
    "    \n",
    "print(\"\".join(decode))"
   ]
  },
  {
   "cell_type": "code",
   "execution_count": 21,
   "metadata": {},
   "outputs": [],
   "source": [
    "cle_inverse = [2,3,23]\n",
    "decode = []\n",
    "for i in range(len(num)) : \n",
    "    decode.append( alphabet[ (num[i]-cle_inverse[i%3]) %26] ) "
   ]
  },
  {
   "cell_type": "code",
   "execution_count": 22,
   "metadata": {},
   "outputs": [
    {
     "name": "stdout",
     "output_type": "stream",
     "text": [
      "IFYOUWANTTOSOLVETHISPROBLEMTRYTHEKASISKITESTITWILLSOLVETHISPROBLEMEASILY\n"
     ]
    }
   ],
   "source": [
    "print(\"\".join(decode))"
   ]
  },
  {
   "cell_type": "code",
   "execution_count": null,
   "metadata": {},
   "outputs": [],
   "source": []
  }
 ],
 "metadata": {
  "celltoolbar": "Slideshow",
  "kernelspec": {
   "display_name": "Python 3",
   "language": "python",
   "name": "python3"
  },
  "language_info": {
   "codemirror_mode": {
    "name": "ipython",
    "version": 3
   },
   "file_extension": ".py",
   "mimetype": "text/x-python",
   "name": "python",
   "nbconvert_exporter": "python",
   "pygments_lexer": "ipython3",
   "version": "3.6.4"
  }
 },
 "nbformat": 4,
 "nbformat_minor": 2
}
