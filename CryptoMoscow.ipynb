{
 "cells": [
  {
   "cell_type": "code",
   "execution_count": 43,
   "metadata": {
    "scrolled": true
   },
   "outputs": [
    {
     "name": "stdout",
     "output_type": "stream",
     "text": [
      "1\n",
      "0\n",
      "4\n",
      "2\n",
      "3\n",
      "5\n",
      "[2, 1, 4, 5, 3, 6]\n"
     ]
    }
   ],
   "source": [
    "Seq = [2,1,4,8,2,0]\n",
    "#On remplace les 0 par des 10\n",
    "for i in range(len(Seq)) : \n",
    "    if Seq[i] == 0:\n",
    "        Seq[i] = 10\n",
    "\n",
    "cle = [0 for x in range(len(Seq))]\n",
    "ran = Seq[:]\n",
    "ran.sort()\n",
    "\n",
    "\n",
    "k = 0\n",
    "for i in ran :\n",
    "    k += 1 \n",
    "    index = Seq.index(i)\n",
    "    Seq[index] = 0\n",
    "    print(index)\n",
    "    cle[index] = k\n",
    "    \n",
    "print(cle)"
   ]
  },
  {
   "cell_type": "code",
   "execution_count": null,
   "metadata": {
    "collapsed": true
   },
   "outputs": [],
   "source": []
  }
 ],
 "metadata": {
  "kernelspec": {
   "display_name": "Python [default]",
   "language": "python",
   "name": "python3"
  },
  "language_info": {
   "codemirror_mode": {
    "name": "ipython",
    "version": 3
   },
   "file_extension": ".py",
   "mimetype": "text/x-python",
   "name": "python",
   "nbconvert_exporter": "python",
   "pygments_lexer": "ipython3",
   "version": "3.6.1"
  }
 },
 "nbformat": 4,
 "nbformat_minor": 2
}
