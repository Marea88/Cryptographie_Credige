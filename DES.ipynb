{
 "cells": [
  {
   "cell_type": "markdown",
   "metadata": {},
   "source": [
    "# The DES Algorithm Illustrated\n",
    "http://page.math.tu-berlin.de/~kant/teaching/hess/krypto-ws2006/des.htm"
   ]
  },
  {
   "cell_type": "markdown",
   "metadata": {},
   "source": [
    "### Fonction binaire et retour\n",
    "\n",
    "https://stackoverflow.com/questions/37590412/converting-binary-to-ascii-and-ascii-to-binary"
   ]
  },
  {
   "cell_type": "code",
   "execution_count": 1,
   "metadata": {
    "collapsed": true
   },
   "outputs": [],
   "source": [
    "def toBin(string):\n",
    "    return \"\".join([format(ord(char),'#010b')[2:] for char in string])\n",
    "\n",
    "def toStr(binaryString):\n",
    "    return \"\".join([chr(int(binaryString[i:i+8],2)) for i in range(0,len(binaryString),8)])"
   ]
  },
  {
   "cell_type": "markdown",
   "metadata": {},
   "source": [
    "### Permutation de la clé\n",
    "\n",
    " The 64-bit key is permuted according to the following table, PC-1. Since the first entry in the table is \"57\", this means that the 57th bit of the original key K becomes the first bit of the permuted key K+. The 49th bit of the original key becomes the second bit of the permuted key. The 4th bit of the original key is the last bit of the permuted key. Note only 56 bits of the original key appear in the permuted key.\n",
    "\n",
    "                            PC-1\n",
    "\n",
    "              57   49    41   33    25    17    9\n",
    "               1   58    50   42    34    26   18\n",
    "              10    2    59   51    43    35   27\n",
    "              19   11     3   60    52    44   36\n",
    "              63   55    47   39    31    23   15\n",
    "               7   62    54   46    38    30   22\n",
    "              14    6    61   53    45    37   29\n",
    "              21   13     5   28    20    12    4\n",
    "\n",
    "Example: From the original 64-bit key\n",
    "\n",
    "K = 00010011 00110100 01010111 01111001 10011011 10111100 11011111 11110001\n",
    "\n",
    "we get the 56-bit permutation\n",
    "\n",
    "K+ = 1111000 0110011 0010101 0101111 0101010 1011001 1001111 0001111 \n",
    "\n",
    "$  a+b=c^{nx\\alpha}\\mod5$"
   ]
  },
  {
   "cell_type": "code",
   "execution_count": 2,
   "metadata": {
    "collapsed": true
   },
   "outputs": [],
   "source": [
    "def PermCle(K) : \n",
    "    S = list(range(64))\n",
    "    \n",
    "    #Création de la liste PermIP \n",
    "    Perm = [[57,49,41,33,25,17,9],\n",
    "             [1,58,50,42,34,26,18],\n",
    "             [10,2,59,51,43,35,27],\n",
    "             [19,11, 3,60,52,44,36],\n",
    "             [63,55,47,39,31,23,15],\n",
    "             [7,62,54,46,38,30,22],\n",
    "             [14,6,61,53,45,37,29],\n",
    "             [21,13, 5,28,20,12,4]]\n",
    "    \n",
    "    for x in range(8): \n",
    "        for y in range(7):\n",
    "            S[x*8+y] = K[Perm[x][y]-1]\n",
    "    \n",
    "    S = [\" \" if (x+1)%8==0 else S[x] for x in range(64)]\n",
    "    return \"\".join(\"\".join(S).split())\n",
    "\n",
    " \n",
    "K = \"\".join(\"00010011 00110100 01010111 01111001 10011011 10111100 11011111 11110001\".split())\n",
    "#K = \"\".join(\"\".split())\n",
    "Kplus = PermCle(K)"
   ]
  },
  {
   "cell_type": "code",
   "execution_count": 3,
   "metadata": {
    "collapsed": true
   },
   "outputs": [],
   "source": [
    "C = [list(Kplus[0:28]) for x in range(19)]\n",
    "D = [list(Kplus[28:56]) for x in range(19)]\n",
    "\n",
    "\n",
    "iteration = [1,1,2,2,2,2,2,2,1,2,2,2,2,2,2,1]\n",
    "\n",
    "for i in range(17): \n",
    "    for j in range(len(C[i])):\n",
    "        nouv_position = (j-iteration[i-1]) % len(C[i])\n",
    "\n",
    "        C[i+1][nouv_position] = C[i][j]\n",
    "    \n",
    "        \n",
    "for i in range(17): \n",
    "    for j in range(len(D[i])):\n",
    "        nouv_position = (j-iteration[i-1]) % len(D[i])\n",
    "\n",
    "        D[i+1][nouv_position] = D[i][j]\n",
    "        \n",
    "        \n",
    "Cf = C[-1]\n",
    "Df = D[-1]"
   ]
  },
  {
   "cell_type": "markdown",
   "metadata": {},
   "source": [
    " ## Permutation sur K"
   ]
  },
  {
   "cell_type": "code",
   "execution_count": 4,
   "metadata": {
    "collapsed": true
   },
   "outputs": [],
   "source": [
    "def PermK(M) : \n",
    "    S = list(range(64))\n",
    "\n",
    "    Perm2 = [[14, 17,11, 24,  1, 5],\n",
    "              [ 3, 28,15,  6, 21,10],\n",
    "              [23, 19,12,  4, 26, 8],\n",
    "              [16,  7,27, 20, 13, 2],\n",
    "              [41, 52,31, 37, 47,55],\n",
    "              [30, 40,51, 45, 33,48],\n",
    "              [44, 49,39, 56, 34,53],\n",
    "              [46, 42,50, 36, 29,32]]\n",
    "    for x in range(8): \n",
    "        for y in range(6):\n",
    "            S[x*8+y] = M[Perm2[x][y]-1]\n",
    "    \n",
    "    Sf = [str(S[x]) for x in range(64) if not ((x-6)%8==0 or (x-7)%8==0)]\n",
    "    return \"\".join(Sf)\n",
    "\n",
    "\n",
    "K  = [(C[x]+D[x]) for x in range(1,17)]\n",
    "K = [\"\".join(x) for x in K]\n",
    "T = [PermK(x) for x in K]"
   ]
  },
  {
   "cell_type": "markdown",
   "metadata": {},
   "source": [
    "## Première Permutation"
   ]
  },
  {
   "cell_type": "code",
   "execution_count": 5,
   "metadata": {
    "collapsed": true
   },
   "outputs": [],
   "source": [
    "def PermIP(M) : \n",
    "    Perm = [[] for x in range(8)]\n",
    "    S = list(range(64))\n",
    "    \n",
    "    #Création de la liste PermIP \n",
    "    for x in range(8) :\n",
    "        Perm[x] = [(7-n)*8+1+x for n in range(8)]\n",
    "    Perm[0],Perm[1],Perm[2],Perm[3],Perm[4],Perm[5],Perm[6],Perm[7] = Perm[1],Perm[3],Perm[5],Perm[7],Perm[0],Perm[2],Perm[4],Perm[6]\n",
    "    \n",
    "    #Permutation à proprement parler\n",
    "    for x in range(8): \n",
    "        for y in range(8):\n",
    "            S[x*8+y] = M[Perm[x][y]-1]\n",
    "            \n",
    "            \n",
    "    return \"\".join(S)\n",
    "\n",
    "\n",
    "M = \"\".join(\"0000 0001 0010 0011 0100 0101 0110 0111 1000 1001 1010 1011 1100 1101 1110 1111\".split())\n",
    "\n",
    "IP = PermIP(M)"
   ]
  },
  {
   "cell_type": "code",
   "execution_count": 6,
   "metadata": {
    "collapsed": true
   },
   "outputs": [],
   "source": [
    "L = [IP[0:31]]\n",
    "R = [IP[32:63]]"
   ]
  },
  {
   "cell_type": "code",
   "execution_count": null,
   "metadata": {
    "collapsed": true
   },
   "outputs": [],
   "source": []
  }
 ],
 "metadata": {
  "kernelspec": {
   "display_name": "Python 3",
   "language": "python",
   "name": "python3"
  },
  "language_info": {
   "codemirror_mode": {
    "name": "ipython",
    "version": 3
   },
   "file_extension": ".py",
   "mimetype": "text/x-python",
   "name": "python",
   "nbconvert_exporter": "python",
   "pygments_lexer": "ipython3",
   "version": "3.6.4"
  }
 },
 "nbformat": 4,
 "nbformat_minor": 2
}
